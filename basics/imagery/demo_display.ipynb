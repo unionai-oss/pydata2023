{
 "cells": [
  {
   "cell_type": "code",
   "execution_count": null,
   "id": "7168f9fe-c97c-45b4-9c82-f45e3043a978",
   "metadata": {
    "tags": [
     "parameters"
    ]
   },
   "outputs": [],
   "source": [
    "path = None"
   ]
  },
  {
   "cell_type": "code",
   "execution_count": 21,
   "id": "5431763f-6082-4481-8e22-fac0c5447ffc",
   "metadata": {
    "tags": []
   },
   "outputs": [],
   "source": [
    "import re\n",
    "import tempfile\n",
    "\n",
    "from IPython.display import display\n",
    "import pandas as pd\n",
    "from PIL import Image\n",
    "\n",
    "from flytekit.types.file import FlyteFile"
   ]
  },
  {
   "cell_type": "markdown",
   "id": "375309b2-1d3c-44be-8354-a96b9a05d493",
   "metadata": {},
   "source": [
    "# Metrics Report"
   ]
  },
  {
   "cell_type": "code",
   "execution_count": null,
   "id": "7245c025-2e8a-42f4-84b0-16edc2736aef",
   "metadata": {
    "tags": []
   },
   "outputs": [],
   "source": [
    "df = pd.read_parquet(path)\n",
    "df[\"correct\"] = ((df.prediction > 0.5) == df.label).astype(int)\n",
    "df.sort_values(by=\"correct\")[[\"label\", \"prediction\", \"description\"]]"
   ]
  },
  {
   "cell_type": "code",
   "execution_count": null,
   "id": "8fac0004-cf8c-43ed-be2d-9bfea3efa5a6",
   "metadata": {},
   "outputs": [],
   "source": [
    "acc = df[\"correct\"].sum() / len(df)\n",
    "print(f\"accuracy = {acc}\")"
   ]
  },
  {
   "cell_type": "code",
   "execution_count": 26,
   "id": "f345d685-7b2c-4c47-b655-6904c1051ad3",
   "metadata": {
    "jupyter": {
     "source_hidden": true
    },
    "tags": []
   },
   "outputs": [],
   "source": [
    "def download_file_from_s3(s3_path):\n",
    "    # Extract the bucket and key from the S3 path\n",
    "    match = re.match(r's3://([^/]+)/(.+)', s3_path)\n",
    "    if not match:\n",
    "        raise ValueError(f\"Invalid S3 path: {s3_path}\")\n",
    "\n",
    "    bucket, key = match.groups()\n",
    "\n",
    "    # Create a boto3 client for S3\n",
    "    s3_client = boto3.client('s3')\n",
    "\n",
    "    # Download the file\n",
    "    tmp = tempfile.mktemp()\n",
    "    s3_client.download_file(bucket, key, tmp)\n",
    "    return tmp"
   ]
  },
  {
   "cell_type": "markdown",
   "id": "873bbcf1-be4a-405f-a86c-7d923bb2f364",
   "metadata": {
    "tags": []
   },
   "source": [
    "# False Positives "
   ]
  },
  {
   "cell_type": "code",
   "execution_count": null,
   "id": "c84c107a-7166-407a-9aaf-86e31d038c41",
   "metadata": {
    "tags": []
   },
   "outputs": [],
   "source": [
    "for i, img in df.iterrows():\n",
    "    if (img.prediction > 0.5) == 1 and img.label == 0.0:\n",
    "        print(f\"Image {i}: {img.description}\")\n",
    "        display(Image.open(download_file_from_s3(img.remote_source)))"
   ]
  },
  {
   "cell_type": "markdown",
   "id": "ff2683c8-366e-4d03-a6e1-60ff8693b545",
   "metadata": {},
   "source": [
    "# True Positives & True Negatives"
   ]
  },
  {
   "cell_type": "code",
   "execution_count": null,
   "id": "ea444457-e7b9-42a2-99a0-e15a7893693c",
   "metadata": {
    "tags": []
   },
   "outputs": [],
   "source": [
    "for i, img in df.iterrows():\n",
    "    if (img.prediction > 0.5) == img.label:\n",
    "        print(f\"Image {i}: {img.description}\")\n",
    "        display(Image.open(download_file_from_s3(img.remote_source)))"
   ]
  }
 ],
 "metadata": {
  "kernelspec": {
   "display_name": "Python 3 (ipykernel)",
   "language": "python",
   "name": "python3"
  },
  "language_info": {
   "codemirror_mode": {
    "name": "ipython",
    "version": 3
   },
   "file_extension": ".py",
   "mimetype": "text/x-python",
   "name": "python",
   "nbconvert_exporter": "python",
   "pygments_lexer": "ipython3",
   "version": "3.10.10"
  }
 },
 "nbformat": 4,
 "nbformat_minor": 5
}
